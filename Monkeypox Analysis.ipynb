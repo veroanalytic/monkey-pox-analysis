{
 "cells": [
  {
   "cell_type": "markdown",
   "id": "cc2287ba",
   "metadata": {},
   "source": [
    "# Analysis"
   ]
  },
  {
   "cell_type": "markdown",
   "id": "a2b02168",
   "metadata": {},
   "source": [
    "Monkeypox is an infectious disease caused by the monkeypox virus that can occur in certain animals, including humans. Symptoms begin with fever, headache, muscle pains, swollen lymph nodes, and feeling tired.\n",
    "\n",
    "An ongoing outbreak of monkeypox was confirmed on 6 May 2022, beginning with a British resident who, after traveling to Nigeria (where the disease is endemic), presented symptoms consistent with monkeypox on 29 April 2022. The resident returned to the United Kingdom on 4 May, creating the country's index case of the outbreak."
   ]
  },
  {
   "cell_type": "code",
   "execution_count": 39,
   "id": "ccb0bb63",
   "metadata": {},
   "outputs": [
    {
     "data": {
      "text/html": [
       "<style>.container { width:100% !important; }</style>"
      ],
      "text/plain": [
       "<IPython.core.display.HTML object>"
      ]
     },
     "metadata": {},
     "output_type": "display_data"
    }
   ],
   "source": [
    "# Increase width of Jupyter Notebook Interface\n",
    "from IPython.display import display, HTML\n",
    "display(HTML(\"<style>.container { width:100% !important; }</style>\"))"
   ]
  },
  {
   "cell_type": "code",
   "execution_count": 1,
   "id": "75d2b743",
   "metadata": {},
   "outputs": [
    {
     "data": {
      "text/html": [
       "        <script type=\"text/javascript\">\n",
       "        window.PlotlyConfig = {MathJaxConfig: 'local'};\n",
       "        if (window.MathJax) {MathJax.Hub.Config({SVG: {font: \"STIX-Web\"}});}\n",
       "        if (typeof require !== 'undefined') {\n",
       "        require.undef(\"plotly\");\n",
       "        requirejs.config({\n",
       "            paths: {\n",
       "                'plotly': ['https://cdn.plot.ly/plotly-2.9.0.min']\n",
       "            }\n",
       "        });\n",
       "        require(['plotly'], function(Plotly) {\n",
       "            window._Plotly = Plotly;\n",
       "        });\n",
       "        }\n",
       "        </script>\n",
       "        "
      ]
     },
     "metadata": {},
     "output_type": "display_data"
    }
   ],
   "source": [
    "# Import libraries\n",
    "\n",
    "import pandas as pd\n",
    "import numpy as np\n",
    "import matplotlib.pyplot as plt\n",
    "import seaborn as sns\n",
    "import plotly.express as px\n",
    "\n",
    "from plotly.offline import init_notebook_mode\n",
    "init_notebook_mode(connected=True)"
   ]
  },
  {
   "cell_type": "markdown",
   "id": "5a4e9e6d",
   "metadata": {},
   "source": [
    "# About the dataset\n",
    "\n",
    "Monkey_Pox_Cases_Worldwide : This dataset contains a tally of confirmed and suspected cases in all the countries.\n",
    "\n",
    "Worldwide_Case_Detection_Timeline : This dataset contains the timeline for confirmed cases w.r.t. date time, it also contains some other details on every case that is being reported.\n",
    "\n",
    "Daily_Country_Wise_Confirmed_Cases : This dataset contains the daily number of confirmed cases for all the countries where the virus has entered."
   ]
  },
  {
   "cell_type": "code",
   "execution_count": 2,
   "id": "35e4c57b",
   "metadata": {},
   "outputs": [],
   "source": [
    "# Read data files\n",
    "case = pd.read_csv('Monkey_Pox_Cases_Worldwide.csv')\n",
    "case_timeline = pd.read_csv('Worldwide_Case_Detection_Timeline.csv')\n",
    "confirmed_case = pd.read_csv('Daily_Country_Wise_Confirmed_Cases.csv')"
   ]
  },
  {
   "cell_type": "code",
   "execution_count": 6,
   "id": "8deda3ce",
   "metadata": {},
   "outputs": [
    {
     "name": "stdout",
     "output_type": "stream",
     "text": [
      "Cases Worldwide:  (125, 6)\n",
      "Case Detection Timeline:  (58002, 9)\n",
      "Daily Confirmed Cases:  (107, 129)\n"
     ]
    }
   ],
   "source": [
    "# Print shape of data files (row, column)\n",
    "print('Cases Worldwide: ', case.shape)\n",
    "print('Case Detection Timeline: ', case_timeline.shape)\n",
    "print('Daily Confirmed Cases: ', confirmed_case.shape)"
   ]
  },
  {
   "cell_type": "markdown",
   "id": "d3866a3a",
   "metadata": {},
   "source": [
    "# Data exploration"
   ]
  },
  {
   "cell_type": "code",
   "execution_count": 12,
   "id": "8c9b6bd6",
   "metadata": {},
   "outputs": [
    {
     "data": {
      "text/html": [
       "<div>\n",
       "<style scoped>\n",
       "    .dataframe tbody tr th:only-of-type {\n",
       "        vertical-align: middle;\n",
       "    }\n",
       "\n",
       "    .dataframe tbody tr th {\n",
       "        vertical-align: top;\n",
       "    }\n",
       "\n",
       "    .dataframe thead th {\n",
       "        text-align: right;\n",
       "    }\n",
       "</style>\n",
       "<table border=\"1\" class=\"dataframe\">\n",
       "  <thead>\n",
       "    <tr style=\"text-align: right;\">\n",
       "      <th></th>\n",
       "      <th>Country</th>\n",
       "      <th>Confirmed_Cases</th>\n",
       "      <th>Suspected_Cases</th>\n",
       "      <th>Hospitalized</th>\n",
       "      <th>Travel_History_Yes</th>\n",
       "      <th>Travel_History_No</th>\n",
       "    </tr>\n",
       "  </thead>\n",
       "  <tbody>\n",
       "    <tr>\n",
       "      <th>0</th>\n",
       "      <td>England</td>\n",
       "      <td>3320.0</td>\n",
       "      <td>0.0</td>\n",
       "      <td>5.0</td>\n",
       "      <td>2.0</td>\n",
       "      <td>7.0</td>\n",
       "    </tr>\n",
       "    <tr>\n",
       "      <th>1</th>\n",
       "      <td>Portugal</td>\n",
       "      <td>871.0</td>\n",
       "      <td>0.0</td>\n",
       "      <td>0.0</td>\n",
       "      <td>0.0</td>\n",
       "      <td>34.0</td>\n",
       "    </tr>\n",
       "    <tr>\n",
       "      <th>2</th>\n",
       "      <td>Spain</td>\n",
       "      <td>6884.0</td>\n",
       "      <td>0.0</td>\n",
       "      <td>13.0</td>\n",
       "      <td>2.0</td>\n",
       "      <td>0.0</td>\n",
       "    </tr>\n",
       "    <tr>\n",
       "      <th>3</th>\n",
       "      <td>United States</td>\n",
       "      <td>21761.0</td>\n",
       "      <td>0.0</td>\n",
       "      <td>4.0</td>\n",
       "      <td>41.0</td>\n",
       "      <td>11.0</td>\n",
       "    </tr>\n",
       "    <tr>\n",
       "      <th>4</th>\n",
       "      <td>Canada</td>\n",
       "      <td>1320.0</td>\n",
       "      <td>12.0</td>\n",
       "      <td>1.0</td>\n",
       "      <td>5.0</td>\n",
       "      <td>0.0</td>\n",
       "    </tr>\n",
       "  </tbody>\n",
       "</table>\n",
       "</div>"
      ],
      "text/plain": [
       "         Country  Confirmed_Cases  Suspected_Cases  Hospitalized  \\\n",
       "0        England           3320.0              0.0           5.0   \n",
       "1       Portugal            871.0              0.0           0.0   \n",
       "2          Spain           6884.0              0.0          13.0   \n",
       "3  United States          21761.0              0.0           4.0   \n",
       "4         Canada           1320.0             12.0           1.0   \n",
       "\n",
       "   Travel_History_Yes  Travel_History_No  \n",
       "0                 2.0                7.0  \n",
       "1                 0.0               34.0  \n",
       "2                 2.0                0.0  \n",
       "3                41.0               11.0  \n",
       "4                 5.0                0.0  "
      ]
     },
     "execution_count": 12,
     "metadata": {},
     "output_type": "execute_result"
    }
   ],
   "source": [
    "case.head()"
   ]
  },
  {
   "cell_type": "code",
   "execution_count": 13,
   "id": "bf9e423f",
   "metadata": {},
   "outputs": [
    {
     "data": {
      "text/html": [
       "<div>\n",
       "<style scoped>\n",
       "    .dataframe tbody tr th:only-of-type {\n",
       "        vertical-align: middle;\n",
       "    }\n",
       "\n",
       "    .dataframe tbody tr th {\n",
       "        vertical-align: top;\n",
       "    }\n",
       "\n",
       "    .dataframe thead th {\n",
       "        text-align: right;\n",
       "    }\n",
       "</style>\n",
       "<table border=\"1\" class=\"dataframe\">\n",
       "  <thead>\n",
       "    <tr style=\"text-align: right;\">\n",
       "      <th></th>\n",
       "      <th>Date_confirmation</th>\n",
       "      <th>Country</th>\n",
       "      <th>City</th>\n",
       "      <th>Age</th>\n",
       "      <th>Gender</th>\n",
       "      <th>Symptoms</th>\n",
       "      <th>Hospitalised (Y/N/NA)</th>\n",
       "      <th>Isolated (Y/N/NA)</th>\n",
       "      <th>Travel_history (Y/N/NA)</th>\n",
       "    </tr>\n",
       "  </thead>\n",
       "  <tbody>\n",
       "    <tr>\n",
       "      <th>0</th>\n",
       "      <td>2022-01-31</td>\n",
       "      <td>Nigeria</td>\n",
       "      <td>NaN</td>\n",
       "      <td>NaN</td>\n",
       "      <td>NaN</td>\n",
       "      <td>NaN</td>\n",
       "      <td>NaN</td>\n",
       "      <td>NaN</td>\n",
       "      <td>NaN</td>\n",
       "    </tr>\n",
       "    <tr>\n",
       "      <th>1</th>\n",
       "      <td>2022-01-31</td>\n",
       "      <td>Nigeria</td>\n",
       "      <td>NaN</td>\n",
       "      <td>NaN</td>\n",
       "      <td>NaN</td>\n",
       "      <td>NaN</td>\n",
       "      <td>NaN</td>\n",
       "      <td>NaN</td>\n",
       "      <td>NaN</td>\n",
       "    </tr>\n",
       "    <tr>\n",
       "      <th>2</th>\n",
       "      <td>2022-01-31</td>\n",
       "      <td>Nigeria</td>\n",
       "      <td>NaN</td>\n",
       "      <td>NaN</td>\n",
       "      <td>NaN</td>\n",
       "      <td>NaN</td>\n",
       "      <td>NaN</td>\n",
       "      <td>NaN</td>\n",
       "      <td>NaN</td>\n",
       "    </tr>\n",
       "    <tr>\n",
       "      <th>3</th>\n",
       "      <td>2022-02-17</td>\n",
       "      <td>Cameroon</td>\n",
       "      <td>NaN</td>\n",
       "      <td>0-39</td>\n",
       "      <td>NaN</td>\n",
       "      <td>NaN</td>\n",
       "      <td>NaN</td>\n",
       "      <td>NaN</td>\n",
       "      <td>NaN</td>\n",
       "    </tr>\n",
       "    <tr>\n",
       "      <th>4</th>\n",
       "      <td>2022-02-17</td>\n",
       "      <td>Cameroon</td>\n",
       "      <td>NaN</td>\n",
       "      <td>0-39</td>\n",
       "      <td>NaN</td>\n",
       "      <td>NaN</td>\n",
       "      <td>NaN</td>\n",
       "      <td>NaN</td>\n",
       "      <td>NaN</td>\n",
       "    </tr>\n",
       "  </tbody>\n",
       "</table>\n",
       "</div>"
      ],
      "text/plain": [
       "  Date_confirmation   Country City   Age Gender Symptoms  \\\n",
       "0        2022-01-31   Nigeria  NaN   NaN    NaN      NaN   \n",
       "1        2022-01-31   Nigeria  NaN   NaN    NaN      NaN   \n",
       "2        2022-01-31   Nigeria  NaN   NaN    NaN      NaN   \n",
       "3        2022-02-17  Cameroon  NaN  0-39    NaN      NaN   \n",
       "4        2022-02-17  Cameroon  NaN  0-39    NaN      NaN   \n",
       "\n",
       "  Hospitalised (Y/N/NA) Isolated (Y/N/NA) Travel_history (Y/N/NA)  \n",
       "0                   NaN               NaN                     NaN  \n",
       "1                   NaN               NaN                     NaN  \n",
       "2                   NaN               NaN                     NaN  \n",
       "3                   NaN               NaN                     NaN  \n",
       "4                   NaN               NaN                     NaN  "
      ]
     },
     "execution_count": 13,
     "metadata": {},
     "output_type": "execute_result"
    }
   ],
   "source": [
    "case_timeline.head()  # Lots of NaN"
   ]
  },
  {
   "cell_type": "code",
   "execution_count": 15,
   "id": "9fbde1c0",
   "metadata": {},
   "outputs": [
    {
     "data": {
      "text/html": [
       "<div>\n",
       "<style scoped>\n",
       "    .dataframe tbody tr th:only-of-type {\n",
       "        vertical-align: middle;\n",
       "    }\n",
       "\n",
       "    .dataframe tbody tr th {\n",
       "        vertical-align: top;\n",
       "    }\n",
       "\n",
       "    .dataframe thead th {\n",
       "        text-align: right;\n",
       "    }\n",
       "</style>\n",
       "<table border=\"1\" class=\"dataframe\">\n",
       "  <thead>\n",
       "    <tr style=\"text-align: right;\">\n",
       "      <th></th>\n",
       "      <th>Country</th>\n",
       "      <th>2022-01-31</th>\n",
       "      <th>2022-02-17</th>\n",
       "      <th>2022-02-28</th>\n",
       "      <th>2022-03-04</th>\n",
       "      <th>2022-03-31</th>\n",
       "      <th>2022-04-10</th>\n",
       "      <th>2022-04-12</th>\n",
       "      <th>2022-04-30</th>\n",
       "      <th>2022-05-06</th>\n",
       "      <th>...</th>\n",
       "      <th>2022-08-31</th>\n",
       "      <th>2022-09-01</th>\n",
       "      <th>2022-09-02</th>\n",
       "      <th>2022-09-03</th>\n",
       "      <th>2022-09-04</th>\n",
       "      <th>2022-09-05</th>\n",
       "      <th>2022-09-06</th>\n",
       "      <th>2022-09-07</th>\n",
       "      <th>2022-09-08</th>\n",
       "      <th>2022-09-09</th>\n",
       "    </tr>\n",
       "  </thead>\n",
       "  <tbody>\n",
       "    <tr>\n",
       "      <th>0</th>\n",
       "      <td>Nigeria</td>\n",
       "      <td>3</td>\n",
       "      <td>0</td>\n",
       "      <td>1</td>\n",
       "      <td>0</td>\n",
       "      <td>6</td>\n",
       "      <td>0</td>\n",
       "      <td>0</td>\n",
       "      <td>5</td>\n",
       "      <td>0</td>\n",
       "      <td>...</td>\n",
       "      <td>0</td>\n",
       "      <td>0</td>\n",
       "      <td>0</td>\n",
       "      <td>0</td>\n",
       "      <td>0</td>\n",
       "      <td>0</td>\n",
       "      <td>0</td>\n",
       "      <td>0</td>\n",
       "      <td>0</td>\n",
       "      <td>0</td>\n",
       "    </tr>\n",
       "    <tr>\n",
       "      <th>1</th>\n",
       "      <td>Cameroon</td>\n",
       "      <td>0</td>\n",
       "      <td>3</td>\n",
       "      <td>0</td>\n",
       "      <td>0</td>\n",
       "      <td>0</td>\n",
       "      <td>0</td>\n",
       "      <td>0</td>\n",
       "      <td>0</td>\n",
       "      <td>0</td>\n",
       "      <td>...</td>\n",
       "      <td>0</td>\n",
       "      <td>0</td>\n",
       "      <td>0</td>\n",
       "      <td>0</td>\n",
       "      <td>0</td>\n",
       "      <td>0</td>\n",
       "      <td>0</td>\n",
       "      <td>0</td>\n",
       "      <td>0</td>\n",
       "      <td>0</td>\n",
       "    </tr>\n",
       "    <tr>\n",
       "      <th>2</th>\n",
       "      <td>Central African Republic</td>\n",
       "      <td>0</td>\n",
       "      <td>0</td>\n",
       "      <td>0</td>\n",
       "      <td>2</td>\n",
       "      <td>0</td>\n",
       "      <td>4</td>\n",
       "      <td>0</td>\n",
       "      <td>0</td>\n",
       "      <td>0</td>\n",
       "      <td>...</td>\n",
       "      <td>0</td>\n",
       "      <td>0</td>\n",
       "      <td>0</td>\n",
       "      <td>0</td>\n",
       "      <td>0</td>\n",
       "      <td>0</td>\n",
       "      <td>0</td>\n",
       "      <td>0</td>\n",
       "      <td>0</td>\n",
       "      <td>0</td>\n",
       "    </tr>\n",
       "    <tr>\n",
       "      <th>3</th>\n",
       "      <td>Republic of Congo</td>\n",
       "      <td>0</td>\n",
       "      <td>0</td>\n",
       "      <td>0</td>\n",
       "      <td>0</td>\n",
       "      <td>0</td>\n",
       "      <td>0</td>\n",
       "      <td>2</td>\n",
       "      <td>0</td>\n",
       "      <td>0</td>\n",
       "      <td>...</td>\n",
       "      <td>0</td>\n",
       "      <td>0</td>\n",
       "      <td>0</td>\n",
       "      <td>0</td>\n",
       "      <td>0</td>\n",
       "      <td>0</td>\n",
       "      <td>0</td>\n",
       "      <td>0</td>\n",
       "      <td>0</td>\n",
       "      <td>0</td>\n",
       "    </tr>\n",
       "    <tr>\n",
       "      <th>4</th>\n",
       "      <td>England</td>\n",
       "      <td>0</td>\n",
       "      <td>0</td>\n",
       "      <td>0</td>\n",
       "      <td>0</td>\n",
       "      <td>0</td>\n",
       "      <td>0</td>\n",
       "      <td>0</td>\n",
       "      <td>0</td>\n",
       "      <td>1</td>\n",
       "      <td>...</td>\n",
       "      <td>0</td>\n",
       "      <td>0</td>\n",
       "      <td>0</td>\n",
       "      <td>0</td>\n",
       "      <td>0</td>\n",
       "      <td>63</td>\n",
       "      <td>0</td>\n",
       "      <td>0</td>\n",
       "      <td>0</td>\n",
       "      <td>0</td>\n",
       "    </tr>\n",
       "  </tbody>\n",
       "</table>\n",
       "<p>5 rows × 129 columns</p>\n",
       "</div>"
      ],
      "text/plain": [
       "                    Country  2022-01-31  2022-02-17  2022-02-28  2022-03-04  \\\n",
       "0                   Nigeria           3           0           1           0   \n",
       "1                  Cameroon           0           3           0           0   \n",
       "2  Central African Republic           0           0           0           2   \n",
       "3         Republic of Congo           0           0           0           0   \n",
       "4                   England           0           0           0           0   \n",
       "\n",
       "   2022-03-31  2022-04-10  2022-04-12  2022-04-30  2022-05-06  ...  \\\n",
       "0           6           0           0           5           0  ...   \n",
       "1           0           0           0           0           0  ...   \n",
       "2           0           4           0           0           0  ...   \n",
       "3           0           0           2           0           0  ...   \n",
       "4           0           0           0           0           1  ...   \n",
       "\n",
       "   2022-08-31  2022-09-01  2022-09-02  2022-09-03  2022-09-04  2022-09-05  \\\n",
       "0           0           0           0           0           0           0   \n",
       "1           0           0           0           0           0           0   \n",
       "2           0           0           0           0           0           0   \n",
       "3           0           0           0           0           0           0   \n",
       "4           0           0           0           0           0          63   \n",
       "\n",
       "   2022-09-06  2022-09-07  2022-09-08  2022-09-09  \n",
       "0           0           0           0           0  \n",
       "1           0           0           0           0  \n",
       "2           0           0           0           0  \n",
       "3           0           0           0           0  \n",
       "4           0           0           0           0  \n",
       "\n",
       "[5 rows x 129 columns]"
      ]
     },
     "execution_count": 15,
     "metadata": {},
     "output_type": "execute_result"
    }
   ],
   "source": [
    "confirmed_case.head()"
   ]
  },
  {
   "cell_type": "code",
   "execution_count": 64,
   "id": "6583c25f",
   "metadata": {},
   "outputs": [
    {
     "name": "stdout",
     "output_type": "stream",
     "text": [
      "Case Dataset Information:\n",
      "\n",
      "<class 'pandas.core.frame.DataFrame'>\n",
      "RangeIndex: 125 entries, 0 to 124\n",
      "Data columns (total 7 columns):\n",
      " #   Column              Non-Null Count  Dtype \n",
      "---  ------              --------------  ----- \n",
      " 0   Country             125 non-null    object\n",
      " 1   Confirmed_Cases     125 non-null    int64 \n",
      " 2   Suspected_Cases     125 non-null    int64 \n",
      " 3   Hospitalized        125 non-null    int64 \n",
      " 4   Travel_History_Yes  125 non-null    int64 \n",
      " 5   Travel_History_No   125 non-null    int64 \n",
      " 6   Total_Cases         125 non-null    int64 \n",
      "dtypes: int64(6), object(1)\n",
      "memory usage: 7.0+ KB\n"
     ]
    }
   ],
   "source": [
    "print(f\"Case Dataset Information:\\n\")\n",
    "case.info()"
   ]
  },
  {
   "cell_type": "code",
   "execution_count": 63,
   "id": "13547641",
   "metadata": {},
   "outputs": [
    {
     "name": "stdout",
     "output_type": "stream",
     "text": [
      "Summary of case dataset:\n"
     ]
    },
    {
     "data": {
      "text/html": [
       "<div>\n",
       "<style scoped>\n",
       "    .dataframe tbody tr th:only-of-type {\n",
       "        vertical-align: middle;\n",
       "    }\n",
       "\n",
       "    .dataframe tbody tr th {\n",
       "        vertical-align: top;\n",
       "    }\n",
       "\n",
       "    .dataframe thead th {\n",
       "        text-align: right;\n",
       "    }\n",
       "</style>\n",
       "<table border=\"1\" class=\"dataframe\">\n",
       "  <thead>\n",
       "    <tr style=\"text-align: right;\">\n",
       "      <th></th>\n",
       "      <th>count</th>\n",
       "      <th>mean</th>\n",
       "      <th>std</th>\n",
       "      <th>min</th>\n",
       "      <th>25%</th>\n",
       "      <th>50%</th>\n",
       "      <th>75%</th>\n",
       "      <th>max</th>\n",
       "    </tr>\n",
       "  </thead>\n",
       "  <tbody>\n",
       "    <tr>\n",
       "      <th>Confirmed_Cases</th>\n",
       "      <td>125.0</td>\n",
       "      <td>461.496</td>\n",
       "      <td>2153.757181</td>\n",
       "      <td>0.0</td>\n",
       "      <td>2.0</td>\n",
       "      <td>5.0</td>\n",
       "      <td>71.0</td>\n",
       "      <td>21761.0</td>\n",
       "    </tr>\n",
       "    <tr>\n",
       "      <th>Suspected_Cases</th>\n",
       "      <td>125.0</td>\n",
       "      <td>27.056</td>\n",
       "      <td>242.531884</td>\n",
       "      <td>0.0</td>\n",
       "      <td>0.0</td>\n",
       "      <td>0.0</td>\n",
       "      <td>0.0</td>\n",
       "      <td>2681.0</td>\n",
       "    </tr>\n",
       "    <tr>\n",
       "      <th>Hospitalized</th>\n",
       "      <td>125.0</td>\n",
       "      <td>1.184</td>\n",
       "      <td>2.826670</td>\n",
       "      <td>0.0</td>\n",
       "      <td>0.0</td>\n",
       "      <td>0.0</td>\n",
       "      <td>1.0</td>\n",
       "      <td>18.0</td>\n",
       "    </tr>\n",
       "    <tr>\n",
       "      <th>Travel_History_Yes</th>\n",
       "      <td>125.0</td>\n",
       "      <td>2.128</td>\n",
       "      <td>4.827635</td>\n",
       "      <td>0.0</td>\n",
       "      <td>0.0</td>\n",
       "      <td>1.0</td>\n",
       "      <td>3.0</td>\n",
       "      <td>41.0</td>\n",
       "    </tr>\n",
       "    <tr>\n",
       "      <th>Travel_History_No</th>\n",
       "      <td>125.0</td>\n",
       "      <td>0.720</td>\n",
       "      <td>3.566420</td>\n",
       "      <td>0.0</td>\n",
       "      <td>0.0</td>\n",
       "      <td>0.0</td>\n",
       "      <td>0.0</td>\n",
       "      <td>34.0</td>\n",
       "    </tr>\n",
       "    <tr>\n",
       "      <th>Total_Cases</th>\n",
       "      <td>125.0</td>\n",
       "      <td>488.552</td>\n",
       "      <td>2163.918416</td>\n",
       "      <td>0.0</td>\n",
       "      <td>2.0</td>\n",
       "      <td>6.0</td>\n",
       "      <td>71.0</td>\n",
       "      <td>21761.0</td>\n",
       "    </tr>\n",
       "  </tbody>\n",
       "</table>\n",
       "</div>"
      ],
      "text/plain": [
       "                    count     mean          std  min  25%  50%   75%      max\n",
       "Confirmed_Cases     125.0  461.496  2153.757181  0.0  2.0  5.0  71.0  21761.0\n",
       "Suspected_Cases     125.0   27.056   242.531884  0.0  0.0  0.0   0.0   2681.0\n",
       "Hospitalized        125.0    1.184     2.826670  0.0  0.0  0.0   1.0     18.0\n",
       "Travel_History_Yes  125.0    2.128     4.827635  0.0  0.0  1.0   3.0     41.0\n",
       "Travel_History_No   125.0    0.720     3.566420  0.0  0.0  0.0   0.0     34.0\n",
       "Total_Cases         125.0  488.552  2163.918416  0.0  2.0  6.0  71.0  21761.0"
      ]
     },
     "execution_count": 63,
     "metadata": {},
     "output_type": "execute_result"
    }
   ],
   "source": [
    "print(f\"Summary of case dataset:\")\n",
    "case.describe().T  # transpose"
   ]
  },
  {
   "cell_type": "markdown",
   "id": "1be5b4e7",
   "metadata": {},
   "source": [
    "### Checking for nulls in dataset"
   ]
  },
  {
   "cell_type": "code",
   "execution_count": 51,
   "id": "5dd2f363",
   "metadata": {},
   "outputs": [
    {
     "data": {
      "text/html": [
       "<div>\n",
       "<style scoped>\n",
       "    .dataframe tbody tr th:only-of-type {\n",
       "        vertical-align: middle;\n",
       "    }\n",
       "\n",
       "    .dataframe tbody tr th {\n",
       "        vertical-align: top;\n",
       "    }\n",
       "\n",
       "    .dataframe thead th {\n",
       "        text-align: right;\n",
       "    }\n",
       "</style>\n",
       "<table border=\"1\" class=\"dataframe\">\n",
       "  <thead>\n",
       "    <tr style=\"text-align: right;\">\n",
       "      <th></th>\n",
       "      <th>Country</th>\n",
       "      <th>Confirmed_Cases</th>\n",
       "      <th>Suspected_Cases</th>\n",
       "      <th>Hospitalized</th>\n",
       "      <th>Travel_History_Yes</th>\n",
       "      <th>Travel_History_No</th>\n",
       "      <th>Total_Cases</th>\n",
       "    </tr>\n",
       "  </thead>\n",
       "  <tbody>\n",
       "    <tr>\n",
       "      <th>0</th>\n",
       "      <td>0</td>\n",
       "      <td>0</td>\n",
       "      <td>0</td>\n",
       "      <td>0</td>\n",
       "      <td>0</td>\n",
       "      <td>0</td>\n",
       "      <td>0</td>\n",
       "    </tr>\n",
       "  </tbody>\n",
       "</table>\n",
       "</div>"
      ],
      "text/plain": [
       "   Country  Confirmed_Cases  Suspected_Cases  Hospitalized  \\\n",
       "0        0                0                0             0   \n",
       "\n",
       "   Travel_History_Yes  Travel_History_No  Total_Cases  \n",
       "0                   0                  0            0  "
      ]
     },
     "execution_count": 51,
     "metadata": {},
     "output_type": "execute_result"
    }
   ],
   "source": [
    "case.isnull().sum().to_frame().T  # Convert Series to DataFrame"
   ]
  },
  {
   "cell_type": "code",
   "execution_count": 65,
   "id": "595e444d",
   "metadata": {},
   "outputs": [
    {
     "data": {
      "text/html": [
       "<div>\n",
       "<style scoped>\n",
       "    .dataframe tbody tr th:only-of-type {\n",
       "        vertical-align: middle;\n",
       "    }\n",
       "\n",
       "    .dataframe tbody tr th {\n",
       "        vertical-align: top;\n",
       "    }\n",
       "\n",
       "    .dataframe thead th {\n",
       "        text-align: right;\n",
       "    }\n",
       "</style>\n",
       "<table border=\"1\" class=\"dataframe\">\n",
       "  <thead>\n",
       "    <tr style=\"text-align: right;\">\n",
       "      <th></th>\n",
       "      <th>Date_confirmation</th>\n",
       "      <th>Country</th>\n",
       "      <th>City</th>\n",
       "      <th>Age</th>\n",
       "      <th>Gender</th>\n",
       "      <th>Symptoms</th>\n",
       "      <th>Hospitalised (Y/N/NA)</th>\n",
       "      <th>Isolated (Y/N/NA)</th>\n",
       "      <th>Travel_history (Y/N/NA)</th>\n",
       "    </tr>\n",
       "  </thead>\n",
       "  <tbody>\n",
       "    <tr>\n",
       "      <th>0</th>\n",
       "      <td>0</td>\n",
       "      <td>0</td>\n",
       "      <td>56808</td>\n",
       "      <td>55225</td>\n",
       "      <td>55688</td>\n",
       "      <td>57816</td>\n",
       "      <td>57715</td>\n",
       "      <td>57605</td>\n",
       "      <td>57673</td>\n",
       "    </tr>\n",
       "  </tbody>\n",
       "</table>\n",
       "</div>"
      ],
      "text/plain": [
       "   Date_confirmation  Country   City    Age  Gender  Symptoms  \\\n",
       "0                  0        0  56808  55225   55688     57816   \n",
       "\n",
       "   Hospitalised (Y/N/NA)  Isolated (Y/N/NA)  Travel_history (Y/N/NA)  \n",
       "0                  57715              57605                    57673  "
      ]
     },
     "execution_count": 65,
     "metadata": {},
     "output_type": "execute_result"
    }
   ],
   "source": [
    "case_timeline.isnull().sum().to_frame().T  # Lots of nulls; need to clean later"
   ]
  },
  {
   "cell_type": "code",
   "execution_count": 54,
   "id": "78b8e4fd",
   "metadata": {},
   "outputs": [
    {
     "data": {
      "text/html": [
       "<div>\n",
       "<style scoped>\n",
       "    .dataframe tbody tr th:only-of-type {\n",
       "        vertical-align: middle;\n",
       "    }\n",
       "\n",
       "    .dataframe tbody tr th {\n",
       "        vertical-align: top;\n",
       "    }\n",
       "\n",
       "    .dataframe thead th {\n",
       "        text-align: right;\n",
       "    }\n",
       "</style>\n",
       "<table border=\"1\" class=\"dataframe\">\n",
       "  <thead>\n",
       "    <tr style=\"text-align: right;\">\n",
       "      <th></th>\n",
       "      <th>0</th>\n",
       "    </tr>\n",
       "  </thead>\n",
       "  <tbody>\n",
       "    <tr>\n",
       "      <th>Country</th>\n",
       "      <td>0</td>\n",
       "    </tr>\n",
       "    <tr>\n",
       "      <th>2022-01-31</th>\n",
       "      <td>0</td>\n",
       "    </tr>\n",
       "    <tr>\n",
       "      <th>2022-02-17</th>\n",
       "      <td>0</td>\n",
       "    </tr>\n",
       "    <tr>\n",
       "      <th>2022-02-28</th>\n",
       "      <td>0</td>\n",
       "    </tr>\n",
       "    <tr>\n",
       "      <th>2022-03-04</th>\n",
       "      <td>0</td>\n",
       "    </tr>\n",
       "    <tr>\n",
       "      <th>...</th>\n",
       "      <td>...</td>\n",
       "    </tr>\n",
       "    <tr>\n",
       "      <th>2022-09-05</th>\n",
       "      <td>0</td>\n",
       "    </tr>\n",
       "    <tr>\n",
       "      <th>2022-09-06</th>\n",
       "      <td>0</td>\n",
       "    </tr>\n",
       "    <tr>\n",
       "      <th>2022-09-07</th>\n",
       "      <td>0</td>\n",
       "    </tr>\n",
       "    <tr>\n",
       "      <th>2022-09-08</th>\n",
       "      <td>0</td>\n",
       "    </tr>\n",
       "    <tr>\n",
       "      <th>2022-09-09</th>\n",
       "      <td>0</td>\n",
       "    </tr>\n",
       "  </tbody>\n",
       "</table>\n",
       "<p>129 rows × 1 columns</p>\n",
       "</div>"
      ],
      "text/plain": [
       "            0\n",
       "Country     0\n",
       "2022-01-31  0\n",
       "2022-02-17  0\n",
       "2022-02-28  0\n",
       "2022-03-04  0\n",
       "...        ..\n",
       "2022-09-05  0\n",
       "2022-09-06  0\n",
       "2022-09-07  0\n",
       "2022-09-08  0\n",
       "2022-09-09  0\n",
       "\n",
       "[129 rows x 1 columns]"
      ]
     },
     "execution_count": 54,
     "metadata": {},
     "output_type": "execute_result"
    }
   ],
   "source": [
    "confirmed_case.isnull().sum().to_frame()"
   ]
  },
  {
   "cell_type": "code",
   "execution_count": 57,
   "id": "1b20f200",
   "metadata": {},
   "outputs": [
    {
     "name": "stdout",
     "output_type": "stream",
     "text": [
      "(125,)\n",
      "\n",
      " There are 125 countries with record of monkeypox cases. \n",
      "\n"
     ]
    },
    {
     "data": {
      "text/plain": [
       "array(['England', 'Portugal', 'Spain', 'United States', 'Canada',\n",
       "       'Sweden', 'Italy', 'France', 'Belgium', 'Australia', 'Germany',\n",
       "       'Netherlands', 'Israel', 'Switzerland', 'Greece', 'Austria',\n",
       "       'Argentina', 'Denmark', 'Morocco', 'Slovenia', 'Scotland',\n",
       "       'Czech Republic', 'United Arab Emirates', 'Finland', 'Wales',\n",
       "       'Northern Ireland', 'Sudan', 'Bolivia', 'Iran', 'Ecuador', 'Malta',\n",
       "       'Ireland', 'Mexico', 'Pakistan', 'French Guiana', 'Thailand',\n",
       "       'Peru', 'Brazil', 'Malaysia', 'Hungary', 'Norway', 'Paraguay',\n",
       "       'Costa Rica', 'Gibraltar', 'Mauritius', 'Haiti', 'Uruguay',\n",
       "       'Latvia', 'Cayman Islands', 'Kosovo', 'Turkey', 'Bahamas', 'Ghana',\n",
       "       'India', 'Iceland', 'Poland', 'Bangladesh', 'Uganda', 'Cambodia',\n",
       "       'Malawi', 'Venezuela', 'Romania', 'Georgia', 'Slovakia',\n",
       "       'Luxembourg', 'Nepal', 'Chile', 'Serbia', 'Lebanon', 'South Korea',\n",
       "       'Singapore', 'South Africa', 'Taiwan', 'Colombia', 'Croatia',\n",
       "       'Bulgaria', 'Somalia', 'Zambia', 'Fiji', 'Benin', 'Estonia',\n",
       "       'Puerto Rico', 'Panama', 'Dominican Republic', 'Jamaica',\n",
       "       'New Zealand', 'Russia', 'Bosnia And Herzegovina', 'Saudi Arabia',\n",
       "       'Martinique', 'Barbados', 'Qatar', 'Bermuda', 'Japan',\n",
       "       'Guadeloupe', 'Andorra', 'New Caledonia', 'China', 'Philippines',\n",
       "       'Montenegro', 'Cyprus', 'Lithuania', 'Guatemala',\n",
       "       'Saint Martin (French part)', 'Greenland', 'Moldova', 'Honduras',\n",
       "       'Monaco', 'Indonesia', 'Curaçao', 'Aruba', 'Cuba', 'Guyana',\n",
       "       'El Salvador', 'Belize', 'Hong Kong', 'South Sudan', 'Egypt',\n",
       "       'Nigeria', 'Democratic Republic Of The Congo',\n",
       "       'Central African Republic', 'Republic of Congo', 'Cameroon',\n",
       "       'Liberia', 'Sierra Leone'], dtype=object)"
      ]
     },
     "execution_count": 57,
     "metadata": {},
     "output_type": "execute_result"
    }
   ],
   "source": [
    "print(case[\"Country\"].shape)\n",
    "print(f'\\n There are {len(case[\"Country\"].unique())} countries with record of monkeypox cases. \\n')\n",
    "case[\"Country\"].unique()"
   ]
  },
  {
   "cell_type": "code",
   "execution_count": 29,
   "id": "0800100a",
   "metadata": {},
   "outputs": [
    {
     "data": {
      "text/html": [
       "<div>\n",
       "<style scoped>\n",
       "    .dataframe tbody tr th:only-of-type {\n",
       "        vertical-align: middle;\n",
       "    }\n",
       "\n",
       "    .dataframe tbody tr th {\n",
       "        vertical-align: top;\n",
       "    }\n",
       "\n",
       "    .dataframe thead th {\n",
       "        text-align: right;\n",
       "    }\n",
       "</style>\n",
       "<table border=\"1\" class=\"dataframe\">\n",
       "  <thead>\n",
       "    <tr style=\"text-align: right;\">\n",
       "      <th></th>\n",
       "      <th>Date_confirmation</th>\n",
       "      <th>Country</th>\n",
       "      <th>City</th>\n",
       "      <th>Age</th>\n",
       "      <th>Gender</th>\n",
       "      <th>Symptoms</th>\n",
       "      <th>Hospitalised (Y/N/NA)</th>\n",
       "      <th>Isolated (Y/N/NA)</th>\n",
       "      <th>Travel_history (Y/N/NA)</th>\n",
       "    </tr>\n",
       "  </thead>\n",
       "  <tbody>\n",
       "    <tr>\n",
       "      <th>count</th>\n",
       "      <td>58002</td>\n",
       "      <td>58002</td>\n",
       "      <td>1194</td>\n",
       "      <td>2777</td>\n",
       "      <td>2314</td>\n",
       "      <td>186</td>\n",
       "      <td>287</td>\n",
       "      <td>397</td>\n",
       "      <td>329</td>\n",
       "    </tr>\n",
       "    <tr>\n",
       "      <th>unique</th>\n",
       "      <td>128</td>\n",
       "      <td>108</td>\n",
       "      <td>161</td>\n",
       "      <td>83</td>\n",
       "      <td>5</td>\n",
       "      <td>89</td>\n",
       "      <td>2</td>\n",
       "      <td>1</td>\n",
       "      <td>2</td>\n",
       "    </tr>\n",
       "    <tr>\n",
       "      <th>top</th>\n",
       "      <td>2022-08-22</td>\n",
       "      <td>United States</td>\n",
       "      <td>Toronto</td>\n",
       "      <td>20-69</td>\n",
       "      <td>male</td>\n",
       "      <td>genital ulcer lesions</td>\n",
       "      <td>N</td>\n",
       "      <td>Y</td>\n",
       "      <td>Y</td>\n",
       "    </tr>\n",
       "    <tr>\n",
       "      <th>freq</th>\n",
       "      <td>2063</td>\n",
       "      <td>22017</td>\n",
       "      <td>467</td>\n",
       "      <td>615</td>\n",
       "      <td>2272</td>\n",
       "      <td>30</td>\n",
       "      <td>161</td>\n",
       "      <td>397</td>\n",
       "      <td>241</td>\n",
       "    </tr>\n",
       "  </tbody>\n",
       "</table>\n",
       "</div>"
      ],
      "text/plain": [
       "       Date_confirmation        Country     City    Age Gender  \\\n",
       "count              58002          58002     1194   2777   2314   \n",
       "unique               128            108      161     83      5   \n",
       "top           2022-08-22  United States  Toronto  20-69   male   \n",
       "freq                2063          22017      467    615   2272   \n",
       "\n",
       "                     Symptoms Hospitalised (Y/N/NA) Isolated (Y/N/NA)  \\\n",
       "count                     186                   287               397   \n",
       "unique                     89                     2                 1   \n",
       "top     genital ulcer lesions                     N                 Y   \n",
       "freq                       30                   161               397   \n",
       "\n",
       "       Travel_history (Y/N/NA)  \n",
       "count                      329  \n",
       "unique                       2  \n",
       "top                          Y  \n",
       "freq                       241  "
      ]
     },
     "execution_count": 29,
     "metadata": {},
     "output_type": "execute_result"
    }
   ],
   "source": [
    "case_timeline.describe()"
   ]
  },
  {
   "cell_type": "markdown",
   "id": "4da0bff2",
   "metadata": {},
   "source": [
    "# Preparing Data:"
   ]
  },
  {
   "cell_type": "code",
   "execution_count": 31,
   "id": "c795ac70",
   "metadata": {},
   "outputs": [
    {
     "data": {
      "text/html": [
       "<div>\n",
       "<style scoped>\n",
       "    .dataframe tbody tr th:only-of-type {\n",
       "        vertical-align: middle;\n",
       "    }\n",
       "\n",
       "    .dataframe tbody tr th {\n",
       "        vertical-align: top;\n",
       "    }\n",
       "\n",
       "    .dataframe thead th {\n",
       "        text-align: right;\n",
       "    }\n",
       "</style>\n",
       "<table border=\"1\" class=\"dataframe\">\n",
       "  <thead>\n",
       "    <tr style=\"text-align: right;\">\n",
       "      <th></th>\n",
       "      <th>Country</th>\n",
       "      <th>Confirmed_Cases</th>\n",
       "      <th>Suspected_Cases</th>\n",
       "      <th>Hospitalized</th>\n",
       "      <th>Travel_History_Yes</th>\n",
       "      <th>Travel_History_No</th>\n",
       "    </tr>\n",
       "  </thead>\n",
       "  <tbody>\n",
       "    <tr>\n",
       "      <th>0</th>\n",
       "      <td>England</td>\n",
       "      <td>3320.0</td>\n",
       "      <td>0.0</td>\n",
       "      <td>5.0</td>\n",
       "      <td>2.0</td>\n",
       "      <td>7.0</td>\n",
       "    </tr>\n",
       "  </tbody>\n",
       "</table>\n",
       "</div>"
      ],
      "text/plain": [
       "   Country  Confirmed_Cases  Suspected_Cases  Hospitalized  \\\n",
       "0  England           3320.0              0.0           5.0   \n",
       "\n",
       "   Travel_History_Yes  Travel_History_No  \n",
       "0                 2.0                7.0  "
      ]
     },
     "execution_count": 31,
     "metadata": {},
     "output_type": "execute_result"
    }
   ],
   "source": [
    "case.head(1)"
   ]
  },
  {
   "cell_type": "code",
   "execution_count": 34,
   "id": "9f2d16e6",
   "metadata": {},
   "outputs": [
    {
     "data": {
      "text/plain": [
       "Country               object\n",
       "Confirmed_Cases        int64\n",
       "Suspected_Cases        int64\n",
       "Hospitalized           int64\n",
       "Travel_History_Yes     int64\n",
       "Travel_History_No      int64\n",
       "dtype: object"
      ]
     },
     "execution_count": 34,
     "metadata": {},
     "output_type": "execute_result"
    }
   ],
   "source": [
    "# Converting from Float to Int for quicker calculations\n",
    "case[[\"Confirmed_Cases\"]] = case[[\"Confirmed_Cases\"]].astype(\"int\")\n",
    "case[[\"Suspected_Cases\"]] = case[[\"Suspected_Cases\"]].astype(\"int\")\n",
    "case[[\"Hospitalized\"]] = case[[\"Hospitalized\"]].astype(\"int\")\n",
    "case[[\"Travel_History_Yes\"]] = case[[\"Travel_History_Yes\"]].astype(\"int\")\n",
    "case[[\"Travel_History_No\"]] = case[[\"Travel_History_No\"]].astype(\"int\")\n",
    "\n",
    "case.dtypes"
   ]
  },
  {
   "cell_type": "code",
   "execution_count": 36,
   "id": "c04b668f",
   "metadata": {},
   "outputs": [
    {
     "data": {
      "text/html": [
       "<div>\n",
       "<style scoped>\n",
       "    .dataframe tbody tr th:only-of-type {\n",
       "        vertical-align: middle;\n",
       "    }\n",
       "\n",
       "    .dataframe tbody tr th {\n",
       "        vertical-align: top;\n",
       "    }\n",
       "\n",
       "    .dataframe thead th {\n",
       "        text-align: right;\n",
       "    }\n",
       "</style>\n",
       "<table border=\"1\" class=\"dataframe\">\n",
       "  <thead>\n",
       "    <tr style=\"text-align: right;\">\n",
       "      <th></th>\n",
       "      <th>Country</th>\n",
       "      <th>Confirmed_Cases</th>\n",
       "      <th>Suspected_Cases</th>\n",
       "      <th>Hospitalized</th>\n",
       "      <th>Travel_History_Yes</th>\n",
       "      <th>Travel_History_No</th>\n",
       "      <th>Total_Cases</th>\n",
       "    </tr>\n",
       "  </thead>\n",
       "  <tbody>\n",
       "    <tr>\n",
       "      <th>0</th>\n",
       "      <td>England</td>\n",
       "      <td>3320</td>\n",
       "      <td>0</td>\n",
       "      <td>5</td>\n",
       "      <td>2</td>\n",
       "      <td>7</td>\n",
       "      <td>3320</td>\n",
       "    </tr>\n",
       "    <tr>\n",
       "      <th>1</th>\n",
       "      <td>Portugal</td>\n",
       "      <td>871</td>\n",
       "      <td>0</td>\n",
       "      <td>0</td>\n",
       "      <td>0</td>\n",
       "      <td>34</td>\n",
       "      <td>871</td>\n",
       "    </tr>\n",
       "    <tr>\n",
       "      <th>2</th>\n",
       "      <td>Spain</td>\n",
       "      <td>6884</td>\n",
       "      <td>0</td>\n",
       "      <td>13</td>\n",
       "      <td>2</td>\n",
       "      <td>0</td>\n",
       "      <td>6884</td>\n",
       "    </tr>\n",
       "    <tr>\n",
       "      <th>3</th>\n",
       "      <td>United States</td>\n",
       "      <td>21761</td>\n",
       "      <td>0</td>\n",
       "      <td>4</td>\n",
       "      <td>41</td>\n",
       "      <td>11</td>\n",
       "      <td>21761</td>\n",
       "    </tr>\n",
       "    <tr>\n",
       "      <th>4</th>\n",
       "      <td>Canada</td>\n",
       "      <td>1320</td>\n",
       "      <td>12</td>\n",
       "      <td>1</td>\n",
       "      <td>5</td>\n",
       "      <td>0</td>\n",
       "      <td>1332</td>\n",
       "    </tr>\n",
       "  </tbody>\n",
       "</table>\n",
       "</div>"
      ],
      "text/plain": [
       "         Country  Confirmed_Cases  Suspected_Cases  Hospitalized  \\\n",
       "0        England             3320                0             5   \n",
       "1       Portugal              871                0             0   \n",
       "2          Spain             6884                0            13   \n",
       "3  United States            21761                0             4   \n",
       "4         Canada             1320               12             1   \n",
       "\n",
       "   Travel_History_Yes  Travel_History_No  Total_Cases  \n",
       "0                   2                  7         3320  \n",
       "1                   0                 34          871  \n",
       "2                   2                  0         6884  \n",
       "3                  41                 11        21761  \n",
       "4                   5                  0         1332  "
      ]
     },
     "execution_count": 36,
     "metadata": {},
     "output_type": "execute_result"
    }
   ],
   "source": [
    "case[\"Total_Cases\"] = case[[\"Confirmed_Cases\", \"Suspected_Cases\"]].sum(axis=1)  # Create Total_Cases column; axis=1 means function is applied row-wise on the df\n",
    "case.head()"
   ]
  },
  {
   "cell_type": "code",
   "execution_count": 154,
   "id": "03e11e0d",
   "metadata": {},
   "outputs": [],
   "source": [
    "# Cleaning timeline data set --- putting this on hold for now\n",
    "# case_timeline.head(1)"
   ]
  },
  {
   "cell_type": "code",
   "execution_count": 155,
   "id": "90412c8f",
   "metadata": {},
   "outputs": [],
   "source": [
    "# case_timeline.describe()"
   ]
  },
  {
   "cell_type": "code",
   "execution_count": 149,
   "id": "2a3ff22e",
   "metadata": {},
   "outputs": [],
   "source": [
    "# case_country = case_timeline[[\"Country\", \"City\"]]  # create new df with only 'Country' and 'City columns'\n",
    "# case_country_a = case_country.dropna()  # create new df that has dropped na values\n",
    "# case_country_a.value_counts()"
   ]
  },
  {
   "cell_type": "code",
   "execution_count": 150,
   "id": "445d7579",
   "metadata": {},
   "outputs": [],
   "source": [
    "# case_country_b = case_country_a.value_counts(['Country']).reset_index(name='Total')\n",
    "# case_country_b.head()"
   ]
  },
  {
   "cell_type": "code",
   "execution_count": 151,
   "id": "60779051",
   "metadata": {},
   "outputs": [],
   "source": [
    "# Top 10 countries with most cases\n",
    "# case_country_b[:10]"
   ]
  },
  {
   "cell_type": "markdown",
   "id": "098f9980",
   "metadata": {},
   "source": [
    "# Visualization portion"
   ]
  },
  {
   "cell_type": "code",
   "execution_count": 84,
   "id": "7795dc7b",
   "metadata": {},
   "outputs": [
    {
     "data": {
      "image/png": "[encoded data removed]",
      "text/plain": [
       "<Figure size 1080x72 with 1 Axes>"
      ]
     },
     "metadata": {},
     "output_type": "display_data"
    }
   ],
   "source": [
    "# Custom Palete for Visualization\n",
    "sns.set_style(\"whitegrid\")\n",
    "sns.set_context(\"poster\", font_scale = .7)\n",
    "\n",
    "palette = [\"#071e22\",\"#1d7874\",\"#679289\",\"#f4c095\",\"#ee2e31\",\n",
    "           \"#ffb563\",\"#918450\",\"#f85e00\",\"#a41623\",\"#9a031e\",\n",
    "           \"#d6d6d6\",\"#ffee32\",\"#ffd100\",\"#333533\",\"#202020\"]\n",
    "\n",
    "sns.palplot(sns.color_palette(palette))\n",
    "plt.show()"
   ]
  },
  {
   "cell_type": "code",
   "execution_count": 147,
   "id": "892e6619",
   "metadata": {},
   "outputs": [],
   "source": [
    "# _,axs = plt.subplots(1,1, figsize=(18,6))\n",
    "# plt.tight_layout(pad=4.0)\n",
    "\n",
    "# p = sns.barplot(x=case_country_b[\"Country\"][:10], y=case_country_b[\"Total\"], palette=palette, saturation=1)\n",
    "# p.set_label(\"Total Monkeypox Cases\")\n",
    "# p.set_xticklabels(p.get_xticklabels(), rotation= 90)\n",
    "\n",
    "# for container in p.containers:\n",
    "#         p.bar_label(container, label_type=\"edge\", padding=2, size=15, color=\"black\", rotation=45)\n",
    "\n",
    "# plt.suptitle(\"Top 10 Countries with Monkeypox Cases\", fontsize=20)   \n",
    "# sns.despine(left=True, bottom=True)  # remove spines from plot\n",
    "# plt.show()"
   ]
  },
  {
   "cell_type": "markdown",
   "id": "dfa6e6eb",
   "metadata": {},
   "source": [
    "# Case dataset visualization"
   ]
  },
  {
   "cell_type": "markdown",
   "id": "b30b3cf3",
   "metadata": {},
   "source": [
    "### Confirmed and Suspected Cases by Country"
   ]
  },
  {
   "cell_type": "code",
   "execution_count": 157,
   "id": "48c8778d",
   "metadata": {},
   "outputs": [
    {
     "data": {
      "image/png": "[encoded data removed]",
      "text/plain": [
       "<Figure size 1296x432 with 2 Axes>"
      ]
     },
     "metadata": {},
     "output_type": "display_data"
    }
   ],
   "source": [
    "case_confirmed = case.sort_values([\"Confirmed_Cases\"], ascending = False)\n",
    "case_suspected = case.sort_values([\"Suspected_Cases\"], ascending = False)\n",
    "\n",
    "_,axs = plt.subplots(1,2, figsize=(18,6))\n",
    "plt.tight_layout(pad=4.0)\n",
    "\n",
    "sns.barplot(x=case_confirmed[\"Country\"][:10], y=case_confirmed[\"Confirmed_Cases\"], ax=axs[0], palette=palette, saturation=1)\n",
    "axs[0].set_ylabel(\"Total Confirmed Cases\")\n",
    "axs[0].set_xticklabels(axs[0].get_xticklabels(), rotation=90)\n",
    "for container in axs[0].containers:\n",
    "    axs[0].bar_label(container, label_type=\"edge\", padding=2, size=15, color=\"black\", rotation=45)\n",
    "    \n",
    "sns.barplot(x=case_suspected[\"Country\"][:10], y=case_suspected[\"Suspected_Cases\"], ax=axs[1], palette=palette, saturation=1)\n",
    "axs[1].set_ylabel(\"Total Suspected Cases\")\n",
    "axs[1].set_xticklabels(axs[1].get_xticklabels(), rotation=90)\n",
    "for container in axs[1].containers:\n",
    "    axs[1].bar_label(container, label_type=\"edge\", padding=2, size=15, color=\"black\", rotation=45)\n",
    "    \n",
    "plt.suptitle(\"Top 10 Countries with Monkeypox Cases\", fontsize=20)\n",
    "sns.despine(left=True, bottom=True)\n",
    "plt.show()"
   ]
  },
  {
   "cell_type": "markdown",
   "id": "a038b564",
   "metadata": {},
   "source": [
    "Initial observations:\n",
    "- United States has the highest confirmed cases. \n",
    "    - 3x higher than Spain who is second highest in confirmed cases\n",
    "    - Though, I'd like to compare against total population to determine the rate of confirmed cases\n",
    "- Democratic Republic of the Congo has the highest suspected cases\n",
    "- Top 3 countries of suspected cases are in Africa"
   ]
  },
  {
   "cell_type": "markdown",
   "id": "ef74229a",
   "metadata": {},
   "source": [
    "### Total Cases by Country (Confirmed + Suspected)"
   ]
  },
  {
   "cell_type": "code",
   "execution_count": 171,
   "id": "69bcce76",
   "metadata": {},
   "outputs": [
    {
     "data": {
      "image/png": "[encoded data removed]",
      "text/plain": [
       "<Figure size 1296x432 with 1 Axes>"
      ]
     },
     "metadata": {},
     "output_type": "display_data"
    }
   ],
   "source": [
    "case_total = case.sort_values([\"Total_Cases\"], ascending = False)\n",
    "plt.subplots(figsize=(18,6))\n",
    "p = sns.barplot(x=case_total[\"Country\"][:15], y=case_total[\"Total_Cases\"], palette=palette, saturation=1)\n",
    "p.axes.set_title(\"Top 15 Countries with Monkeypox Cases\", fontsize=20)\n",
    "plt.ylabel(\"Total Cases\")\n",
    "plt.xticks(rotation=90)\n",
    "for container in p.containers:\n",
    "    p.bar_label(container, label_type=\"center\", padding=2, size=15, color=\"white\", rotation=0)\n",
    "\n",
    "sns.despine(left=True, bottom=True)\n",
    "plt.show()"
   ]
  },
  {
   "cell_type": "markdown",
   "id": "a80397fb",
   "metadata": {},
   "source": [
    "### Hospitalied Patients"
   ]
  },
  {
   "cell_type": "code",
   "execution_count": 199,
   "id": "1c107cc0",
   "metadata": {},
   "outputs": [
    {
     "data": {
      "image/png": "[encoded data removed]",
      "text/plain": [
       "<Figure size 1296x936 with 1 Axes>"
      ]
     },
     "metadata": {},
     "output_type": "display_data"
    }
   ],
   "source": [
    "case_total_15 = case_total.sort_values([\"Total_Cases\"], ascending=False)[:15]\n",
    "\n",
    "case_total_15_melt = case_total_15.melt(id_vars=[\"Country\"], value_vars=[\"Total_Cases\", \"Hospitalized\"],\n",
    "var_name=\"Variables\", value_name=\"Values\")\n",
    "\n",
    "plt.subplots(figsize=(18,13))\n",
    "p = sns.barplot(y=case_total_15_melt[\"Country\"], x=case_total_15_melt[\"Values\"], \n",
    "                hue=case_total_15_melt[\"Variables\"], palette=[\"#1d7874\",\"#ffd100\"], saturation=1)\n",
    "p.axes.set_title(\"Total Cases to Hospital Ratio\\n\", fontsize=20)\n",
    "plt.ylabel(\"Country\")\n",
    "plt.xlabel(\"Cases\")\n",
    "plt.xticks(rotation=0)\n",
    "for container in p.containers:\n",
    "    p.bar_label(container, label_type=\"edge\", padding=2, size=15, color=\"black\", rotation=0)\n",
    "    \n",
    "sns.despine(left=True, bottom=True)\n",
    "plt.show()"
   ]
  },
  {
   "cell_type": "code",
   "execution_count": null,
   "id": "c3c888bd",
   "metadata": {},
   "outputs": [],
   "source": []
  },
  {
   "cell_type": "code",
   "execution_count": null,
   "id": "66e58c43",
   "metadata": {},
   "outputs": [],
   "source": []
  },
  {
   "cell_type": "code",
   "execution_count": null,
   "id": "de417b42",
   "metadata": {},
   "outputs": [],
   "source": []
  }
 ],
 "metadata": {
  "kernelspec": {
   "display_name": "Python 3 (ipykernel)",
   "language": "python",
   "name": "python3"
  },
  "language_info": {
   "codemirror_mode": {
    "name": "ipython",
    "version": 3
   },
   "file_extension": ".py",
   "mimetype": "text/x-python",
   "name": "python",
   "nbconvert_exporter": "python",
   "pygments_lexer": "ipython3",
   "version": "3.9.12"
  }
 },
 "nbformat": 4,
 "nbformat_minor": 5
}
